{
 "cells": [
  {
   "cell_type": "code",
   "execution_count": 5,
   "metadata": {},
   "outputs": [
    {
     "name": "stdout",
     "output_type": "stream",
     "text": [
      "Number is found\n"
     ]
    }
   ],
   "source": [
    "def linears(a,x):\n",
    "    flag=0\n",
    "    for i in range(len(a)):\n",
    "        if(a[i]==x):\n",
    "            flag=1\n",
    "            break\n",
    "    if(flag!=0):\n",
    "        print(\"Number is found\")\n",
    "    else:\n",
    "        print(\"Number not found\")\n",
    "a=[20,24,6,8,12,46,66]\n",
    "linears(a,20)"
   ]
  },
  {
   "cell_type": "code",
   "execution_count": 16,
   "metadata": {},
   "outputs": [
    {
     "name": "stdout",
     "output_type": "stream",
     "text": [
      "3\n",
      "Number found\n"
     ]
    }
   ],
   "source": [
    "def lineard(a,x):\n",
    "    flag=0\n",
    "    for i in range(len(a)):\n",
    "        if(a[i]==x):\n",
    "            flag=flag+1\n",
    "    print(flag)\n",
    "    if(flag!=0):\n",
    "        print(\"Number found\")\n",
    "    else:\n",
    "        print(\"Number not found\")\n",
    "a=[12,24,6,8,9,1,25,9,9]\n",
    "lineard(a,9)"
   ]
  },
  {
   "cell_type": "code",
   "execution_count": 14,
   "metadata": {},
   "outputs": [
    {
     "name": "stdout",
     "output_type": "stream",
     "text": [
      "2\n",
      "4\n",
      "Found\n"
     ]
    }
   ],
   "source": [
    "def li(a,x):\n",
    "    flag=0\n",
    "    for i in range(len(a)):\n",
    "        if(a[i]==x):\n",
    "            flag=flag+1\n",
    "            print(i)\n",
    "    if(flag!=0):\n",
    "        print('Found')\n",
    "    else:\n",
    "        print('not found')\n",
    "a=[1,5,9,6,9,12,5]\n",
    "li(a,9)"
   ]
  },
  {
   "cell_type": "code",
   "execution_count": 29,
   "metadata": {},
   "outputs": [
    {
     "name": "stdout",
     "output_type": "stream",
     "text": [
      "2\n",
      "!!4\n",
      "!!!!Found\n"
     ]
    }
   ],
   "source": [
    "def li(a,x):\n",
    "    flag=0\n",
    "    for i in range(len(a)):\n",
    "        if(a[i]==x):\n",
    "            flag=flag+1\n",
    "            j=0\n",
    "            print(i)\n",
    "            while(j!=i):\n",
    "                print('!',end=\"\")\n",
    "                j=j+1\n",
    "    if(flag!=0):\n",
    "        print('Found')\n",
    "    else:\n",
    "        print('not found')\n",
    "a=[1,5,9,6,9,12,5]\n",
    "li(a,9)"
   ]
  },
  {
   "cell_type": "code",
   "execution_count": 33,
   "metadata": {},
   "outputs": [
    {
     "name": "stdout",
     "output_type": "stream",
     "text": [
      "60\n"
     ]
    }
   ],
   "source": [
    "def ex(a):\n",
    "    sum=0\n",
    "    for i in range(len(a)):\n",
    "        if((a[i]%3==0)and(a[i]%5==0)):\n",
    "            sum=sum+a[i]\n",
    "    print(sum)\n",
    "a=[15,9,6,45,5]\n",
    "ex(a)"
   ]
  },
  {
   "cell_type": "code",
   "execution_count": null,
   "metadata": {},
   "outputs": [],
   "source": [
    "def "
   ]
  }
 ],
 "metadata": {
  "kernelspec": {
   "display_name": "Python 3",
   "language": "python",
   "name": "python3"
  },
  "language_info": {
   "codemirror_mode": {
    "name": "ipython",
    "version": 3
   },
   "file_extension": ".py",
   "mimetype": "text/x-python",
   "name": "python",
   "nbconvert_exporter": "python",
   "pygments_lexer": "ipython3",
   "version": "3.7.3"
  }
 },
 "nbformat": 4,
 "nbformat_minor": 2
}
