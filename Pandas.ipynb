{
 "cells": [
  {
   "cell_type": "code",
   "execution_count": 3,
   "metadata": {},
   "outputs": [
    {
     "name": "stdout",
     "output_type": "stream",
     "text": [
      "     Name  Mobile Address\n",
      "0    Hiro    9088     Hyd\n",
      "1     Sam    9088     Hyd\n",
      "2  Kirito    7867     Hyd\n"
     ]
    }
   ],
   "source": [
    "import pandas as pd\n",
    "dict={\"Name\":['Hiro','Sam','Kirito'],'Mobile':[9088,9088,7867],'Address':['Hyd','Hyd','Hyd']}\n",
    "b=pd.DataFrame(dict)\n",
    "print(b)"
   ]
  },
  {
   "cell_type": "code",
   "execution_count": 5,
   "metadata": {},
   "outputs": [
    {
     "name": "stdout",
     "output_type": "stream",
     "text": [
      "      Name  Mobile Address\n",
      "01    Hiro    9088     Hyd\n",
      "02     Sam    9088     Hyd\n",
      "03  Kirito    7867     Hyd\n"
     ]
    }
   ],
   "source": [
    "b.index=['01','02','03']\n",
    "print(b)"
   ]
  }
 ],
 "metadata": {
  "kernelspec": {
   "display_name": "Python 3",
   "language": "python",
   "name": "python3"
  },
  "language_info": {
   "codemirror_mode": {
    "name": "ipython",
    "version": 3
   },
   "file_extension": ".py",
   "mimetype": "text/x-python",
   "name": "python",
   "nbconvert_exporter": "python",
   "pygments_lexer": "ipython3",
   "version": "3.7.3"
  }
 },
 "nbformat": 4,
 "nbformat_minor": 2
}
