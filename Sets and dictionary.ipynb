{
 "cells": [
  {
   "cell_type": "code",
   "execution_count": 5,
   "metadata": {},
   "outputs": [
    {
     "name": "stdout",
     "output_type": "stream",
     "text": [
      "user1[Name]= Mahema\n",
      "user1[Age]= 20\n"
     ]
    }
   ],
   "source": [
    "user1={'Name':'Mahema','Age':20,'EmailID':'hehehe@gmail.com','MoblieNumber':'9000123336'}\n",
    "print('user1[Name]=',user1['Name'])\n",
    "print('user1[Age]=',user1['Age'])"
   ]
  },
  {
   "cell_type": "code",
   "execution_count": 13,
   "metadata": {},
   "outputs": [
    {
     "name": "stdout",
     "output_type": "stream",
     "text": [
      "user1[Email]= mahema1@gmail.com\n",
      "Hyderabad\n",
      "{'Name': 'Mahema', 'Age': 20, 'Email': 'mahema1@gmail.com', 'Address': 'Hyderabad'}\n",
      "{}\n"
     ]
    }
   ],
   "source": [
    "user1={'Name':'Mahema','Age':20,'Email':'hehehe@gmail.com','MobileNumber':'9000123336'}\n",
    "user1['Email']='mahema1@gmail.com'\n",
    "print('user1[Email]=',user1['Email'])\n",
    "user1['Address']='Hyderabad'\n",
    "print(user1['Address'])\n",
    "del user1['MobileNumber']\n",
    "print(user1)\n",
    "user1.clear()\n",
    "print(user1)"
   ]
  },
  {
   "cell_type": "code",
   "execution_count": 1,
   "metadata": {},
   "outputs": [
    {
     "name": "stdout",
     "output_type": "stream",
     "text": [
      "4\n"
     ]
    }
   ],
   "source": [
    "user1={'Name':'Mahema','Age':20,'Email':'hehehe@gmail.com','MobileNumber':'9000123336'}\n",
    "print(len(user1))"
   ]
  },
  {
   "cell_type": "code",
   "execution_count": 2,
   "metadata": {},
   "outputs": [
    {
     "name": "stdout",
     "output_type": "stream",
     "text": [
      "{'Name': 'Mahema', 'Age': 20, 'Email': 'hehehe@gmail.com', 'MobileNumber': '9000123336'}\n"
     ]
    }
   ],
   "source": [
    "user1={'Name':'Mahema','Age':20,'Email':'hehehe@gmail.com','MobileNumber':'9000123336'}\n",
    "user2=user1.copy()\n",
    "print(user2)"
   ]
  },
  {
   "cell_type": "code",
   "execution_count": 7,
   "metadata": {},
   "outputs": [
    {
     "name": "stdout",
     "output_type": "stream",
     "text": [
      "Contact Mahema added\n",
      "Contact Me added\n",
      "{'Mahema': 6303662392, 'Me': 9121988346}\n"
     ]
    }
   ],
   "source": [
    "contacts={}\n",
    "def addcontact(name,phone):\n",
    "    if(name not in contacts):\n",
    "        contacts[name]=phone\n",
    "        print(\"Contact %s added\"% name)\n",
    "    else:\n",
    "        print(\"Contact %s already exists\"% name)\n",
    "    return\n",
    "addcontact(\"Mahema\",6303662392)\n",
    "addcontact(\"Me\",9121988346)\n",
    "print(contacts)"
   ]
  },
  {
   "cell_type": "code",
   "execution_count": 16,
   "metadata": {},
   "outputs": [
    {
     "name": "stdout",
     "output_type": "stream",
     "text": [
      "Contact Mahema added\n",
      "Contact Me added\n",
      "boi contact does not exist\n"
     ]
    }
   ],
   "source": [
    "contacts={}\n",
    "def addcontact(name,phone):\n",
    "    if(name not in contacts):\n",
    "        contacts[name]=phone\n",
    "        print(\"Contact %s added\"% name)\n",
    "    else:\n",
    "        print(\"Contact %s already exists\"% name)\n",
    "addcontact(\"Mahema\",6303662392)\n",
    "addcontact(\"Me\",9898989223)\n",
    "def search(name):\n",
    "    if(name not in contacts):\n",
    "        print(\"%s contact does not exist\"% name)\n",
    "    else:\n",
    "        print(\"%s contact found\"% contacts[name])\n",
    "    return\n",
    "search('boi')"
   ]
  },
  {
   "cell_type": "code",
   "execution_count": 24,
   "metadata": {},
   "outputs": [
    {
     "name": "stdout",
     "output_type": "stream",
     "text": [
      "1 Contacts added successfully\n",
      "{'Mahema': 6303662392, 'Me': 9898989223, 'DesertSnob': 984522772}\n"
     ]
    }
   ],
   "source": [
    "def importcontact(newContacts):\n",
    "    contacts.update(newContacts)\n",
    "    print(len(newContacts.keys()),'Contacts added successfully')\n",
    "    return\n",
    "newContacts={'DesertSnob':984522772}\n",
    "importcontact(newContacts)\n",
    "print(contacts)"
   ]
  },
  {
   "cell_type": "code",
   "execution_count": 23,
   "metadata": {},
   "outputs": [
    {
     "name": "stdout",
     "output_type": "stream",
     "text": [
      "DesertSnob  does not exist in contacts\n",
      "{'Mahema': 6303662392, 'Me': 9898989223}\n"
     ]
    }
   ],
   "source": [
    "def deletecontact(name):\n",
    "    if(name in contacts):\n",
    "        del contacts[name]\n",
    "        print(name,' is deleted from the contacts')\n",
    "    else:\n",
    "        print(name,' does not exist in contacts')\n",
    "    return\n",
    "deletecontact('DesertSnob')\n",
    "print(contacts)"
   ]
  },
  {
   "cell_type": "code",
   "execution_count": 27,
   "metadata": {},
   "outputs": [
    {
     "name": "stdout",
     "output_type": "stream",
     "text": [
      "DesertSnob  updated in contacts\n"
     ]
    }
   ],
   "source": [
    "def updatecontact(name,phone):\n",
    "    if(name in contacts):\n",
    "        contacts[name]=phone\n",
    "        print(name,' updated in contacts')\n",
    "    else:\n",
    "        print(name,' contact does not exist')\n",
    "    return\n",
    "updatecontact('DesertSnob',9012345672)"
   ]
  }
 ],
 "metadata": {
  "kernelspec": {
   "display_name": "Python 3",
   "language": "python",
   "name": "python3"
  },
  "language_info": {
   "codemirror_mode": {
    "name": "ipython",
    "version": 3
   },
   "file_extension": ".py",
   "mimetype": "text/x-python",
   "name": "python",
   "nbconvert_exporter": "python",
   "pygments_lexer": "ipython3",
   "version": "3.7.3"
  }
 },
 "nbformat": 4,
 "nbformat_minor": 2
}
