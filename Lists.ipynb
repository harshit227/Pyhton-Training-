{
 "cells": [
  {
   "cell_type": "code",
   "execution_count": 8,
   "metadata": {},
   "outputs": [
    {
     "name": "stdout",
     "output_type": "stream",
     "text": [
      "132\n"
     ]
    }
   ],
   "source": [
    "def even(n):\n",
    "    count=0\n",
    "    sum=0\n",
    "    while(count<=n):\n",
    "        if(count%2==0):\n",
    "            sum=sum+count\n",
    "        count=count+1\n",
    "    return sum\n",
    "print(even(22))"
   ]
  },
  {
   "cell_type": "code",
   "execution_count": 9,
   "metadata": {},
   "outputs": [
    {
     "name": "stdout",
     "output_type": "stream",
     "text": [
      "1 2 3 4 6 "
     ]
    }
   ],
   "source": [
    "def fact(n):\n",
    "    i=1\n",
    "    while(i!=n):\n",
    "        if(n%i==0):\n",
    "            print(i,end=\" \")\n",
    "        i=i+1\n",
    "fact(12)"
   ]
  },
  {
   "cell_type": "code",
   "execution_count": 36,
   "metadata": {},
   "outputs": [
    {
     "name": "stdout",
     "output_type": "stream",
     "text": [
      "1 2 3 4 5 6 7 8 9 10 \n",
      "5\n",
      "[3, 4, 5, 6]\n",
      "[2, 3, 4, 5, 6, 7, 8, 9]\n",
      "[3, 4, 5, 6, 7, 8]\n",
      "[1, 5, 9]\n",
      "[1, 4, 7, 10]\n",
      "[10, 8, 6, 4, 2]\n",
      "10\n",
      "9\n"
     ]
    }
   ],
   "source": [
    "list1=[1,2,3,4,5,6,7,8,9,10]\n",
    "for x in list1:\n",
    "    print(x,end=\" \")\n",
    "print()\n",
    "print(list1[4])\n",
    "print(list1[2:6])\n",
    "print(list1[1:-1])\n",
    "print(list1[2:-2])\n",
    "print(list1[::4])\n",
    "print(list1[::3])\n",
    "print(list1[::-2])\n",
    "print(list1[-1])"
   ]
  },
  {
   "cell_type": "code",
   "execution_count": 39,
   "metadata": {},
   "outputs": [
    {
     "name": "stdout",
     "output_type": "stream",
     "text": [
      "['a', 'b', 15, 'd', 2]\n",
      "['a', 'b', 'd', 2]\n",
      "['a', 'b', 'd', 2, 1, 2, 3, 4]\n"
     ]
    }
   ],
   "source": [
    "list1=[\"a\",\"b\",\"c\",\"d\",2]\n",
    "list2=[1,2,3,4]\n",
    "list1[2]=15\n",
    "print(list1)\n",
    "del list1[2]\n",
    "print(list1)\n",
    "print(list1+list2)"
   ]
  },
  {
   "cell_type": "code",
   "execution_count": 46,
   "metadata": {},
   "outputs": [
    {
     "name": "stdout",
     "output_type": "stream",
     "text": [
      "['a', 'b', 'c', 'd']\n",
      "4\n",
      "['a', 'b', 'c', 'd', 15]\n",
      "5\n",
      "['a', 'b', 'c', 'd', 15, 22, 20, 20]\n",
      "8\n",
      "2\n"
     ]
    }
   ],
   "source": [
    "list1=[\"a\",\"b\",\"c\",\"d\"]\n",
    "print(list1)\n",
    "print(len(list1))\n",
    "list1.append(15)\n",
    "print(list1)\n",
    "print(len(list1))\n",
    "list1.append(22)\n",
    "list1.append(20)\n",
    "list1.append(20)\n",
    "print(list1)\n",
    "print(len(list1))\n",
    "print(list1.count(20))"
   ]
  },
  {
   "cell_type": "code",
   "execution_count": 58,
   "metadata": {},
   "outputs": [
    {
     "name": "stdout",
     "output_type": "stream",
     "text": [
      "['a', 'b', 'c', 'd']\n",
      "1\n",
      "['a', 2020, 'b', 'c', 'd']\n",
      "['a', 2020, 'b', 'd']\n",
      "['d', 'b', 2020, 'a']\n"
     ]
    }
   ],
   "source": [
    "list1=[\"a\",\"b\",\"c\",\"d\"]\n",
    "print(list1)\n",
    "print(list1.index(\"b\"))\n",
    "list1.insert(1,2020)\n",
    "print(list1)\n",
    "list1.remove(\"c\")\n",
    "print(list1)\n",
    "list1.reverse()\n",
    "print(list1)"
   ]
  },
  {
   "cell_type": "code",
   "execution_count": null,
   "metadata": {},
   "outputs": [],
   "source": []
  }
 ],
 "metadata": {
  "kernelspec": {
   "display_name": "Python 3",
   "language": "python",
   "name": "python3"
  },
  "language_info": {
   "codemirror_mode": {
    "name": "ipython",
    "version": 3
   },
   "file_extension": ".py",
   "mimetype": "text/x-python",
   "name": "python",
   "nbconvert_exporter": "python",
   "pygments_lexer": "ipython3",
   "version": "3.7.3"
  }
 },
 "nbformat": 4,
 "nbformat_minor": 2
}
