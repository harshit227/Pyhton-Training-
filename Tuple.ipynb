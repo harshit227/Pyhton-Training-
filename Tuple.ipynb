{
 "cells": [
  {
   "cell_type": "code",
   "execution_count": 8,
   "metadata": {},
   "outputs": [
    {
     "name": "stdout",
     "output_type": "stream",
     "text": [
      "('python', 'programming', '1909', '1919', 'machine learning', 'ai')\n",
      "t1[0]= python\n",
      "t1[1:4]= ('programming', '1909', '1919')\n",
      "t1[::5]= ('python', 'ai')\n"
     ]
    }
   ],
   "source": [
    "t1=('python','programming','1909','1919','machine learning','ai')\n",
    "print(t1)\n",
    "print('t1[0]=',t1[0])\n",
    "print('t1[1:4]=',t1[1:4])\n",
    "print('t1[::5]=',t1[::5])"
   ]
  },
  {
   "cell_type": "code",
   "execution_count": 9,
   "metadata": {},
   "outputs": [
    {
     "name": "stdout",
     "output_type": "stream",
     "text": [
      "('python', 'programming', '1909', '1919', 'machine learning', 'ai', 1999, 2109)\n"
     ]
    }
   ],
   "source": [
    "t1=('python','programming','1909','1919','machine learning','ai')\n",
    "t2=(1999,2109)\n",
    "print(t1+t2)"
   ]
  },
  {
   "cell_type": "code",
   "execution_count": 11,
   "metadata": {},
   "outputs": [
    {
     "name": "stdout",
     "output_type": "stream",
     "text": [
      "6\n"
     ]
    }
   ],
   "source": [
    "t1=('python','programming','1909','1919','machine learning','ai')\n",
    "print(len(t1))"
   ]
  },
  {
   "cell_type": "code",
   "execution_count": 14,
   "metadata": {},
   "outputs": [
    {
     "name": "stdout",
     "output_type": "stream",
     "text": [
      "python\n",
      "1909\n"
     ]
    }
   ],
   "source": [
    "t1=('python','programming','1909','1919','machine learning','ai')\n",
    "print(max(t1))\n",
    "print(min(t1))"
   ]
  }
 ],
 "metadata": {
  "kernelspec": {
   "display_name": "Python 3",
   "language": "python",
   "name": "python3"
  },
  "language_info": {
   "codemirror_mode": {
    "name": "ipython",
    "version": 3
   },
   "file_extension": ".py",
   "mimetype": "text/x-python",
   "name": "python",
   "nbconvert_exporter": "python",
   "pygments_lexer": "ipython3",
   "version": "3.7.3"
  }
 },
 "nbformat": 4,
 "nbformat_minor": 2
}
