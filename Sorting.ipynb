{
 "cells": [
  {
   "cell_type": "code",
   "execution_count": 5,
   "metadata": {},
   "outputs": [
    {
     "name": "stdout",
     "output_type": "stream",
     "text": [
      "Item is found\n"
     ]
    }
   ],
   "source": [
    "def bins(b,lb,rb,key):\n",
    "    while(lb<=rb):\n",
    "        mid=(lb)+(rb-lb)//2\n",
    "        if(b[mid]==key):\n",
    "            return mid\n",
    "        if(b[mid]>key):\n",
    "            rb=mid-1\n",
    "        else:\n",
    "            lb=mid+1\n",
    "    return -1\n",
    "b=[1,12,23,45,66]\n",
    "res=bins(b,0,5,12)\n",
    "if(res!=-1):\n",
    "    print('Item is found')\n",
    "else:\n",
    "    print(\"Not found\")"
   ]
  },
  {
   "cell_type": "code",
   "execution_count": 8,
   "metadata": {},
   "outputs": [
    {
     "name": "stdout",
     "output_type": "stream",
     "text": [
      "0 1 22 45 57 "
     ]
    }
   ],
   "source": [
    "def bub(a):\n",
    "    for i in range(len(a)-1):\n",
    "        for j in range(len(a)-1):\n",
    "            if(a[j]>a[j+1]):\n",
    "                a[j],a[j+1]=a[j+1],a[j]\n",
    "    for i in range(len(a)):\n",
    "        print(a[i],end=\" \")\n",
    "a=[22,45,57,1,0]\n",
    "bub(a)"
   ]
  },
  {
   "cell_type": "code",
   "execution_count": 9,
   "metadata": {},
   "outputs": [
    {
     "name": "stdout",
     "output_type": "stream",
     "text": [
      "[0, 1, 22, 45, 57]\n"
     ]
    }
   ],
   "source": [
    "a=[22,45,57,1,0]\n",
    "a.sort()\n",
    "print(a)"
   ]
  }
 ],
 "metadata": {
  "kernelspec": {
   "display_name": "Python 3",
   "language": "python",
   "name": "python3"
  },
  "language_info": {
   "codemirror_mode": {
    "name": "ipython",
    "version": 3
   },
   "file_extension": ".py",
   "mimetype": "text/x-python",
   "name": "python",
   "nbconvert_exporter": "python",
   "pygments_lexer": "ipython3",
   "version": "3.7.3"
  }
 },
 "nbformat": 4,
 "nbformat_minor": 2
}
